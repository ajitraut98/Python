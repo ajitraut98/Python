{
 "cells": [
  {
   "cell_type": "markdown",
   "id": "c2b92fe1",
   "metadata": {},
   "source": [
    "# Oops"
   ]
  },
  {
   "cell_type": "code",
   "execution_count": null,
   "id": "7dbd2c36",
   "metadata": {},
   "outputs": [],
   "source": []
  },
  {
   "cell_type": "markdown",
   "id": "67f9669c",
   "metadata": {},
   "source": [
    "# Class\n",
    "\n",
    "A Class is a collection of objects or you can say it is a blueprint of objects defining the common attributes and behavior"
   ]
  },
  {
   "cell_type": "markdown",
   "id": "8b06a013",
   "metadata": {},
   "source": [
    "# Object\n",
    "\n",
    "An instance of a class is called the object. It is the implementation of the class and exists in real.\n",
    "\n",
    "An object is a collection of data (variables) and methods (functions) that access the data. It is the real implementation of a class.\n",
    "\n"
   ]
  },
  {
   "cell_type": "markdown",
   "id": "a2d309ce",
   "metadata": {},
   "source": [
    "# Self\n",
    "\n",
    "The self parameter is a reference to the current instance of the class. It means, the self parameter points to the address of the current object of a class, allowing us to access the data of its(the object's) variables."
   ]
  },
  {
   "cell_type": "markdown",
   "id": "c95aa456",
   "metadata": {},
   "source": [
    "#  __init__\n",
    "\n",
    "it is a Constructors are used to initialize the object's state\n",
    "\n",
    "The properties that all Human objects must have, are defined in a method called __init__(). Every time a new Human object is created, __init__() sets the initial state of the object by assigning the values of we provide inside the object’s properties. That is, __init__() initializes each new instance of the class. __init__() can take any number of parameters, but the first parameter is always a variable called self."
   ]
  },
  {
   "cell_type": "code",
   "execution_count": null,
   "id": "fc531e84",
   "metadata": {},
   "outputs": [],
   "source": []
  },
  {
   "cell_type": "code",
   "execution_count": 22,
   "id": "908fcc3d",
   "metadata": {},
   "outputs": [],
   "source": [
    "class vehical():\n",
    "    \n",
    "    # Class attribute (memeber variable)\n",
    "    name = 'BMW'\n",
    "    model = 'x7'\n",
    "    year = '2016'\n",
    "    city = 'pune'\n",
    "    \n",
    "    # class method\n",
    "    def get_details(self):\n",
    "        print(\"name={},model={},year={},city={}\".format(vehical.name,vehical.model,vehical.year,vehical.city))\n",
    "        "
   ]
  },
  {
   "cell_type": "code",
   "execution_count": 24,
   "id": "a518c312",
   "metadata": {},
   "outputs": [],
   "source": [
    "# instantiation of the class\n",
    "b1 = vehical()"
   ]
  },
  {
   "cell_type": "code",
   "execution_count": 26,
   "id": "a64a5214",
   "metadata": {},
   "outputs": [
    {
     "data": {
      "text/plain": [
       "'BMW'"
      ]
     },
     "execution_count": 26,
     "metadata": {},
     "output_type": "execute_result"
    }
   ],
   "source": [
    "# to access the class\n",
    "b1.name"
   ]
  },
  {
   "cell_type": "code",
   "execution_count": 14,
   "id": "443439ec",
   "metadata": {},
   "outputs": [
    {
     "data": {
      "text/plain": [
       "'x7'"
      ]
     },
     "execution_count": 14,
     "metadata": {},
     "output_type": "execute_result"
    }
   ],
   "source": [
    "b1.model"
   ]
  },
  {
   "cell_type": "code",
   "execution_count": 15,
   "id": "79ff8867",
   "metadata": {},
   "outputs": [
    {
     "data": {
      "text/plain": [
       "'2016'"
      ]
     },
     "execution_count": 15,
     "metadata": {},
     "output_type": "execute_result"
    }
   ],
   "source": [
    "b1.year"
   ]
  },
  {
   "cell_type": "code",
   "execution_count": 16,
   "id": "c48bc0cc",
   "metadata": {},
   "outputs": [
    {
     "data": {
      "text/plain": [
       "'pune'"
      ]
     },
     "execution_count": 16,
     "metadata": {},
     "output_type": "execute_result"
    }
   ],
   "source": [
    "b1.city"
   ]
  },
  {
   "cell_type": "code",
   "execution_count": 25,
   "id": "dc692885",
   "metadata": {},
   "outputs": [
    {
     "name": "stdout",
     "output_type": "stream",
     "text": [
      "name=BMW,model=x7,year=2016,city=pune\n"
     ]
    }
   ],
   "source": [
    "# to access the class method\n",
    "b1.get_details()"
   ]
  },
  {
   "cell_type": "code",
   "execution_count": null,
   "id": "6e29afd5",
   "metadata": {},
   "outputs": [],
   "source": []
  },
  {
   "cell_type": "code",
   "execution_count": 1,
   "id": "7810693e",
   "metadata": {},
   "outputs": [],
   "source": [
    "class Human():\n",
    "    \n",
    "    # class attribute\n",
    "    species = 'Homo Sapiens'\n",
    "    \n",
    "    def __init__(self,name,age,gender):\n",
    "        self.name = name\n",
    "        self.age = age\n",
    "        self.gender = gender"
   ]
  },
  {
   "cell_type": "code",
   "execution_count": 9,
   "id": "5f47b4a1",
   "metadata": {},
   "outputs": [],
   "source": [
    "# However, we can change the value of class attributes, by assigning classname.classAttribute with any new value.\n",
    "Human.species = 'Sapiens'"
   ]
  },
  {
   "cell_type": "code",
   "execution_count": 2,
   "id": "8c7c2778",
   "metadata": {},
   "outputs": [],
   "source": [
    "x = Human('ajit',24,'male')"
   ]
  },
  {
   "cell_type": "code",
   "execution_count": 7,
   "id": "944bbfaf",
   "metadata": {},
   "outputs": [
    {
     "name": "stdout",
     "output_type": "stream",
     "text": [
      "ajit\n",
      "24\n",
      "male\n"
     ]
    }
   ],
   "source": [
    "print(x.name) \n",
    "print(x.age)\n",
    "print(x.gender)"
   ]
  },
  {
   "cell_type": "code",
   "execution_count": 10,
   "id": "947a2a8d",
   "metadata": {},
   "outputs": [
    {
     "name": "stdout",
     "output_type": "stream",
     "text": [
      "Sapiens\n"
     ]
    }
   ],
   "source": [
    "print(x.species)"
   ]
  },
  {
   "cell_type": "code",
   "execution_count": null,
   "id": "b4caf423",
   "metadata": {},
   "outputs": [],
   "source": []
  },
  {
   "cell_type": "markdown",
   "id": "49a4daff",
   "metadata": {},
   "source": [
    "# Instance Methods\n",
    "\n",
    "An instance method is a function defined within a class that can be called only from instances of that class. Like init(), an instance method's first parameter is always self.\n",
    "\n"
   ]
  },
  {
   "cell_type": "code",
   "execution_count": 5,
   "id": "f9fed8c0",
   "metadata": {},
   "outputs": [],
   "source": [
    "class Human():\n",
    "    \n",
    "    # class attribute\n",
    "    species = \"Homo Sapiens\"\n",
    "    \n",
    "    def __init__(self,name,age,gender):\n",
    "        self.name = name\n",
    "        self.age = age\n",
    "        self.gender = gender\n",
    "        \n",
    "        # instance method\n",
    "    def Speak(self):\n",
    "        return f\"Hi! my name is {self.name}\"\n",
    "            \n",
    "    def Eat(self,FavouriteDish,drink):\n",
    "        return f\"I Love to eat {FavouriteDish} with {drink}\"\n",
    "\n",
    "b1 = Human('siri',22,'Female')            "
   ]
  },
  {
   "cell_type": "code",
   "execution_count": 6,
   "id": "aec6c494",
   "metadata": {},
   "outputs": [
    {
     "name": "stdout",
     "output_type": "stream",
     "text": [
      "Hi! my name is siri\n",
      "I Love to eat Momos with pepsi\n"
     ]
    }
   ],
   "source": [
    "print(b1.Speak())\n",
    "print(b1.Eat('Momos','pepsi'))"
   ]
  },
  {
   "cell_type": "code",
   "execution_count": null,
   "id": "bd682243",
   "metadata": {},
   "outputs": [],
   "source": []
  },
  {
   "cell_type": "code",
   "execution_count": null,
   "id": "d2d7873c",
   "metadata": {},
   "outputs": [],
   "source": []
  },
  {
   "cell_type": "markdown",
   "id": "8d939b23",
   "metadata": {},
   "source": [
    "# four fundamental concepts of Object-oriented programming –\n",
    "\n",
    "1) Inheritance\n",
    "\n",
    "2) Encapsulation\n",
    "\n",
    "3) Polymorphism\n",
    "\n",
    "4) Data abstraction."
   ]
  },
  {
   "cell_type": "code",
   "execution_count": null,
   "id": "28b9e475",
   "metadata": {},
   "outputs": [],
   "source": []
  },
  {
   "cell_type": "code",
   "execution_count": null,
   "id": "eb10f24a",
   "metadata": {},
   "outputs": [],
   "source": []
  },
  {
   "cell_type": "code",
   "execution_count": null,
   "id": "6332c099",
   "metadata": {},
   "outputs": [],
   "source": []
  },
  {
   "cell_type": "code",
   "execution_count": null,
   "id": "ddecd26e",
   "metadata": {},
   "outputs": [],
   "source": []
  },
  {
   "cell_type": "markdown",
   "id": "e0ec5071",
   "metadata": {},
   "source": [
    "# Library-management-system"
   ]
  },
  {
   "cell_type": "markdown",
   "id": "27c2ec03",
   "metadata": {},
   "source": [
    "\n",
    "Python project - Library management system This project majorly focus on Object-Oriented_Programming(OOP). I created a library where student/anyone borrow books, return books, donate books to library and track all books which are taken by students/anyone."
   ]
  },
  {
   "cell_type": "code",
   "execution_count": null,
   "id": "6a402eea",
   "metadata": {},
   "outputs": [],
   "source": []
  },
  {
   "cell_type": "code",
   "execution_count": null,
   "id": "52579ddb",
   "metadata": {},
   "outputs": [
    {
     "name": "stdout",
     "output_type": "stream",
     "text": [
      "\n",
      " ====== Welcome to Central Library ======\n",
      "        Please choose an option:\n",
      "        1. List all the books\n",
      "        2. Request a book\n",
      "        3. Add/Return a book\n",
      "        4. Exit the Library\n",
      "        \n"
     ]
    }
   ],
   "source": [
    "class Library:\n",
    "    def __init__(self, listOfBooks):\n",
    "        self.books = listOfBooks\n",
    "\n",
    "    def displayAvailableBooks(self):\n",
    "        print(\"Books present in this library are: \")\n",
    "        for book in self.books: \n",
    "            print(\" *\" + book)\n",
    "    \n",
    "    def borrowBook(self, bookName):\n",
    "        if bookName in self.books:\n",
    "            print(f\"You have been issued {bookName}. Please keep it safe and return it within 30 days\")\n",
    "            \n",
    "            return True\n",
    "        else:\n",
    "            print(\"Sorry, This book is either not available or has already been issued to someone else. Please wait until the book is available\")\n",
    "            return False\n",
    "\n",
    "    def returnBook(self, bookName):\n",
    "        self.books.append(bookName)\n",
    "        print(\"Thanks for returning this book! Hope you enjoyed reading it. Have a great day ahead!\")\n",
    "\n",
    "class Student: \n",
    "    def requestBook(self):\n",
    "        self.book = input(\"Enter the name of the book you want to borrow: \")\n",
    "        return self.book\n",
    "\n",
    "    def returnBook(self):\n",
    "        self.book = input(\"Enter the name of the book you want to return: \")\n",
    "        return self.book\n",
    "         \n",
    "\n",
    "if __name__ == \"__main__\":\n",
    "    centraLibrary = Library([\"Algorithms\", \"Django\", \"Clrs\", \"Python Notes\",\"computer programming\"])\n",
    "    student = Student()\n",
    "    # centraLibrary.displayAvailableBooks()\n",
    "    while(True):\n",
    "        welcomeMsg = '''\\n ====== Welcome to Central Library ======\n",
    "        Please choose an option:\n",
    "        1. List all the books\n",
    "        2. Request a book\n",
    "        3. Add/Return a book\n",
    "        4. Exit the Library\n",
    "        '''\n",
    "        print(welcomeMsg)\n",
    "        a = int(input(\"Enter a choice: \"))\n",
    "        if a == 1:\n",
    "            centraLibrary.displayAvailableBooks()\n",
    "        elif a == 2:\n",
    "            centraLibrary.borrowBook(student.requestBook())\n",
    "        elif a == 3:\n",
    "            centraLibrary.returnBook(student.returnBook())\n",
    "        elif a == 4:\n",
    "            print(\"Thanks for choosing Central Library. Have a great day ahead!\")\n",
    "            exit()\n",
    "        else:\n",
    "            print(\"Invalid Choice!\")"
   ]
  },
  {
   "cell_type": "code",
   "execution_count": null,
   "id": "f2d4f1cd",
   "metadata": {},
   "outputs": [],
   "source": []
  },
  {
   "cell_type": "code",
   "execution_count": null,
   "id": "d59215db",
   "metadata": {},
   "outputs": [],
   "source": []
  }
 ],
 "metadata": {
  "kernelspec": {
   "display_name": "Python 3 (ipykernel)",
   "language": "python",
   "name": "python3"
  },
  "language_info": {
   "codemirror_mode": {
    "name": "ipython",
    "version": 3
   },
   "file_extension": ".py",
   "mimetype": "text/x-python",
   "name": "python",
   "nbconvert_exporter": "python",
   "pygments_lexer": "ipython3",
   "version": "3.8.13"
  },
  "varInspector": {
   "cols": {
    "lenName": 16,
    "lenType": 16,
    "lenVar": 40
   },
   "kernels_config": {
    "python": {
     "delete_cmd_postfix": "",
     "delete_cmd_prefix": "del ",
     "library": "var_list.py",
     "varRefreshCmd": "print(var_dic_list())"
    },
    "r": {
     "delete_cmd_postfix": ") ",
     "delete_cmd_prefix": "rm(",
     "library": "var_list.r",
     "varRefreshCmd": "cat(var_dic_list()) "
    }
   },
   "types_to_exclude": [
    "module",
    "function",
    "builtin_function_or_method",
    "instance",
    "_Feature"
   ],
   "window_display": false
  }
 },
 "nbformat": 4,
 "nbformat_minor": 5
}
