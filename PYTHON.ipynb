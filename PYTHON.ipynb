{
 "cells": [
  {
   "cell_type": "code",
   "execution_count": 1,
   "metadata": {},
   "outputs": [
    {
     "name": "stdout",
     "output_type": "stream",
     "text": [
      "[2, 4, 6, 8]\n"
     ]
    }
   ],
   "source": [
    "def addition(n):\n",
    "    return n + n\n",
    "\n",
    "# We double all numbers using map()\n",
    "numbers = (1, 2, 3, 4)\n",
    "result = map(addition, numbers)\n",
    "print(list(result))"
   ]
  },
  {
   "cell_type": "code",
   "execution_count": 10,
   "metadata": {},
   "outputs": [
    {
     "name": "stdout",
     "output_type": "stream",
     "text": [
      "[4, 25, 36, 16, 9]\n"
     ]
    }
   ],
   "source": [
    "def multi(n):\n",
    "    return n*n\n",
    "num = (2,5,6,4,3)\n",
    "x = map(multi,num)\n",
    "print(list(x))"
   ]
  },
  {
   "cell_type": "code",
   "execution_count": 27,
   "metadata": {},
   "outputs": [
    {
     "name": "stdout",
     "output_type": "stream",
     "text": [
      "Enter The Number : 103\n",
      "103 is a Prime number\n"
     ]
    }
   ],
   "source": [
    "# Taking the input from User \n",
    "number = int(input(\"Enter The Number : \"))\n",
    "\n",
    "if number > 1:\n",
    "    for i in range(2,int(number/2)+1):\n",
    "        if (number % i == 0):\n",
    "            print(number, \"is not a Prime Number\")\n",
    "            break\n",
    "    else:\n",
    "        print(number,\"is a Prime number\")"
   ]
  },
  {
   "cell_type": "code",
   "execution_count": 56,
   "metadata": {},
   "outputs": [
    {
     "data": {
      "text/plain": [
       "8"
      ]
     },
     "execution_count": 56,
     "metadata": {},
     "output_type": "execute_result"
    }
   ],
   "source": [
    "abs(-8)"
   ]
  },
  {
   "cell_type": "code",
   "execution_count": 39,
   "metadata": {},
   "outputs": [
    {
     "data": {
      "text/plain": [
       "5"
      ]
     },
     "execution_count": 39,
     "metadata": {},
     "output_type": "execute_result"
    }
   ],
   "source": [
    "import math\n",
    "math.floor(5.80)"
   ]
  },
  {
   "cell_type": "code",
   "execution_count": 57,
   "metadata": {},
   "outputs": [
    {
     "name": "stdout",
     "output_type": "stream",
     "text": [
      "1 2 3 4 5 "
     ]
    }
   ],
   "source": [
    "lst = [1, 2, 3, 4, 5]\n",
    "for i in range(len(lst)):\n",
    "     print(lst[i], end = \" \")"
   ]
  },
  {
   "cell_type": "code",
   "execution_count": 71,
   "metadata": {},
   "outputs": [
    {
     "name": "stdout",
     "output_type": "stream",
     "text": [
      "[5, 2, -43, 23]\n"
     ]
    }
   ],
   "source": [
    "listA = ['5', '2','-43', '23']\n",
    "print(list(map(int, listA)))"
   ]
  },
  {
   "cell_type": "code",
   "execution_count": 1,
   "metadata": {},
   "outputs": [
    {
     "data": {
      "text/plain": [
       "[50, 100, 150, 200, 250]"
      ]
     },
     "execution_count": 1,
     "metadata": {},
     "output_type": "execute_result"
    }
   ],
   "source": [
    "a = [10,20,30,40,50]\n",
    "list(map(lambda val:val*5, a))"
   ]
  },
  {
   "cell_type": "code",
   "execution_count": 68,
   "metadata": {},
   "outputs": [
    {
     "name": "stdout",
     "output_type": "stream",
     "text": [
      "['a', 'b', 'g', 'h', 'o']\n"
     ]
    }
   ],
   "source": [
    "# sorting Ascending\n",
    "kl = ['b','g','h','o','a']\n",
    "kl.sort()\n",
    "print(kl)"
   ]
  },
  {
   "cell_type": "code",
   "execution_count": 69,
   "metadata": {},
   "outputs": [
    {
     "name": "stdout",
     "output_type": "stream",
     "text": [
      "['o', 'h', 'g', 'b', 'a']\n"
     ]
    }
   ],
   "source": [
    "# sorting Descending\n",
    "kl = ['b','g','h','o','a']\n",
    "kl.sort(reverse=True)\n",
    "print(kl)"
   ]
  },
  {
   "cell_type": "code",
   "execution_count": 70,
   "metadata": {},
   "outputs": [
    {
     "name": "stdout",
     "output_type": "stream",
     "text": [
      "tijA olleH\n"
     ]
    }
   ],
   "source": [
    "# Reverse string \n",
    "txt = \"Hello Ajit\"[::-1]\n",
    "print(txt)"
   ]
  },
  {
   "cell_type": "markdown",
   "metadata": {},
   "source": [
    "# Iterators"
   ]
  },
  {
   "cell_type": "code",
   "execution_count": 1,
   "metadata": {},
   "outputs": [
    {
     "name": "stdout",
     "output_type": "stream",
     "text": [
      "5\n",
      "4\n",
      "7\n",
      "6\n",
      "7\n",
      "6\n",
      "8\n",
      "6\n"
     ]
    }
   ],
   "source": [
    "li = [5,4,7,6,7,6,8,6]\n",
    "for i in li:\n",
    "    print(i)"
   ]
  },
  {
   "cell_type": "code",
   "execution_count": 2,
   "metadata": {},
   "outputs": [],
   "source": [
    "iterable = iter(li)"
   ]
  },
  {
   "cell_type": "code",
   "execution_count": 3,
   "metadata": {},
   "outputs": [
    {
     "data": {
      "text/plain": [
       "<list_iterator at 0x2d812bf8b80>"
      ]
     },
     "execution_count": 3,
     "metadata": {},
     "output_type": "execute_result"
    }
   ],
   "source": [
    "iterable"
   ]
  },
  {
   "cell_type": "code",
   "execution_count": 9,
   "metadata": {},
   "outputs": [
    {
     "data": {
      "text/plain": [
       "6"
      ]
     },
     "execution_count": 9,
     "metadata": {},
     "output_type": "execute_result"
    }
   ],
   "source": [
    "next(iterable)"
   ]
  },
  {
   "cell_type": "markdown",
   "metadata": {},
   "source": [
    "# Method"
   ]
  },
  {
   "cell_type": "markdown",
   "metadata": {},
   "source": [
    " Methods are defined as functions inside the class definition:"
   ]
  },
  {
   "cell_type": "code",
   "execution_count": 17,
   "metadata": {},
   "outputs": [],
   "source": [
    "class c():\n",
    "    def method(self,arg):\n",
    "        return arg*2 + self.attribute"
   ]
  },
  {
   "cell_type": "code",
   "execution_count": null,
   "metadata": {},
   "outputs": [],
   "source": []
  },
  {
   "cell_type": "markdown",
   "metadata": {},
   "source": [
    "# Function"
   ]
  },
  {
   "cell_type": "code",
   "execution_count": null,
   "metadata": {},
   "outputs": [],
   "source": []
  },
  {
   "cell_type": "code",
   "execution_count": 11,
   "metadata": {},
   "outputs": [
    {
     "data": {
      "text/plain": [
       "10"
      ]
     },
     "execution_count": 11,
     "metadata": {},
     "output_type": "execute_result"
    }
   ],
   "source": [
    "def my(x):\n",
    "    return x * 5\n",
    "my(2)"
   ]
  },
  {
   "cell_type": "code",
   "execution_count": 19,
   "metadata": {},
   "outputs": [
    {
     "name": "stdout",
     "output_type": "stream",
     "text": [
      "16\n"
     ]
    }
   ],
   "source": [
    "def mycc():\n",
    "    return lambda a : a + 5\n",
    "k = mycc()\n",
    "\n",
    "print(k(11))"
   ]
  },
  {
   "cell_type": "code",
   "execution_count": 15,
   "metadata": {},
   "outputs": [
    {
     "name": "stdout",
     "output_type": "stream",
     "text": [
      "6\n"
     ]
    }
   ],
   "source": [
    "y = lambda a, b, c : a + b + c\n",
    "print(y(2,2,2))"
   ]
  },
  {
   "cell_type": "code",
   "execution_count": 23,
   "metadata": {},
   "outputs": [
    {
     "name": "stdout",
     "output_type": "stream",
     "text": [
      "[4, 12, 2, 10, 2, 10, 4, 8, 150, 108, 8, 12, 8, 3090, 10]\n"
     ]
    }
   ],
   "source": [
    "def add(n):\n",
    "    return n + n\n",
    "lis = (2,6,1,5,1,5,2,4,75,54,4,6,4,1545,5)\n",
    "print(list(map(add,lis)))"
   ]
  },
  {
   "cell_type": "code",
   "execution_count": 2,
   "metadata": {},
   "outputs": [
    {
     "name": "stdout",
     "output_type": "stream",
     "text": [
      "50.26548245743669\n"
     ]
    }
   ],
   "source": [
    "from math import pi\n",
    "def circle(r):\n",
    "    area = pi*r*r\n",
    "    return area\n",
    "\n",
    "print(circle(4))"
   ]
  },
  {
   "cell_type": "code",
   "execution_count": 11,
   "metadata": {},
   "outputs": [
    {
     "data": {
      "text/plain": [
       "50.24"
      ]
     },
     "execution_count": 11,
     "metadata": {},
     "output_type": "execute_result"
    }
   ],
   "source": [
    "4*4*3.14"
   ]
  },
  {
   "cell_type": "code",
   "execution_count": 18,
   "metadata": {},
   "outputs": [
    {
     "name": "stdout",
     "output_type": "stream",
     "text": [
      "Hi ajit\n"
     ]
    }
   ],
   "source": [
    "def em(name):\n",
    "    print('Hi',name)\n",
    "y = em('ajit')\n",
    "y"
   ]
  },
  {
   "cell_type": "code",
   "execution_count": 26,
   "metadata": {},
   "outputs": [
    {
     "name": "stdout",
     "output_type": "stream",
     "text": [
      "[4, 36, 1, 25, 1, 25, 4, 16, 5625, 2916, 16, 36, 16, 2387025, 25]\n"
     ]
    }
   ],
   "source": [
    "d = [2,6,1,5,1,5,2,4,75,54,4,6,4,1545,5]\n",
    "print(list(map(lambda v : v * v , d)))"
   ]
  },
  {
   "cell_type": "markdown",
   "metadata": {},
   "source": [
    "# Modules"
   ]
  },
  {
   "cell_type": "markdown",
   "metadata": {},
   "source": [
    "Modules refer to the File containing python statement and defination\n",
    "\n",
    "modules are simply with the \".py\" extension containing ptyhon code that can be imported inside another python program."
   ]
  },
  {
   "cell_type": "code",
   "execution_count": null,
   "metadata": {},
   "outputs": [],
   "source": [
    "def greeting(name):\n",
    "    print(\"my name is \" + name)\n",
    "\n",
    "import PYTHON\n",
    "PYTHON.greeting('ajit')"
   ]
  },
  {
   "cell_type": "code",
   "execution_count": null,
   "metadata": {},
   "outputs": [],
   "source": []
  },
  {
   "cell_type": "markdown",
   "metadata": {},
   "source": [
    "# Exception handling"
   ]
  },
  {
   "cell_type": "markdown",
   "metadata": {},
   "source": [
    "When an error occures , or exception as we call it, python will normaly stop and generate an error message.\n",
    "\n",
    "these exceptions can be handled using 'try' statement\n",
    "\n",
    "1) the 'try' block lets you test a block of code for errors\n",
    "\n",
    "2) the 'Except' block lets you handle the error\n",
    "\n",
    "3) the 'Finally' block lets you execute code, regardless of the result of the 'try' and 'except' block."
   ]
  },
  {
   "cell_type": "code",
   "execution_count": 2,
   "metadata": {},
   "outputs": [
    {
     "name": "stdout",
     "output_type": "stream",
     "text": [
      "an exception occured\n"
     ]
    }
   ],
   "source": [
    "# the try block will generate an exception because x is not defined\n",
    "\n",
    "try:\n",
    "    print(x)\n",
    "except:\n",
    "    print(\"an exception occured\")"
   ]
  },
  {
   "cell_type": "code",
   "execution_count": 3,
   "metadata": {},
   "outputs": [
    {
     "name": "stdout",
     "output_type": "stream",
     "text": [
      "variable x is not defined\n"
     ]
    }
   ],
   "source": [
    "try:\n",
    "    print(x)\n",
    "except NameError:\n",
    "    print(\"variable x is not defined\")\n",
    "except:\n",
    "    print(\"something else went wrong\")"
   ]
  },
  {
   "cell_type": "code",
   "execution_count": 4,
   "metadata": {},
   "outputs": [
    {
     "name": "stdout",
     "output_type": "stream",
     "text": [
      "hello\n",
      "the 'try except' is finished\n"
     ]
    }
   ],
   "source": [
    "try:\n",
    "    print(\"hello\")\n",
    "except:\n",
    "    print(\"something went wrong\")\n",
    "finally:\n",
    "    print(\"the 'try except' is finished\")"
   ]
  },
  {
   "cell_type": "markdown",
   "metadata": {},
   "source": [
    "# Raise an exception"
   ]
  },
  {
   "cell_type": "markdown",
   "metadata": {},
   "source": [
    "we can throw an exception if a condition occurs is true\n",
    "\n",
    "to raise an exception, use ' raise ' keyword\n",
    "\n",
    "We can defined what kind of error to raise, and the text to print to the user."
   ]
  },
  {
   "cell_type": "code",
   "execution_count": 46,
   "metadata": {},
   "outputs": [
    {
     "ename": "Exception",
     "evalue": "sorry,no number below zero",
     "output_type": "error",
     "traceback": [
      "\u001b[1;31m---------------------------------------------------------------------------\u001b[0m",
      "\u001b[1;31mException\u001b[0m                                 Traceback (most recent call last)",
      "\u001b[1;32m<ipython-input-46-710d4509c50f>\u001b[0m in \u001b[0;36m<module>\u001b[1;34m\u001b[0m\n\u001b[0;32m      1\u001b[0m \u001b[0mx\u001b[0m \u001b[1;33m=\u001b[0m \u001b[1;33m-\u001b[0m\u001b[1;36m1\u001b[0m\u001b[1;33m\u001b[0m\u001b[1;33m\u001b[0m\u001b[0m\n\u001b[0;32m      2\u001b[0m \u001b[1;32mif\u001b[0m \u001b[0mx\u001b[0m \u001b[1;33m<\u001b[0m \u001b[1;36m0\u001b[0m\u001b[1;33m:\u001b[0m\u001b[1;33m\u001b[0m\u001b[1;33m\u001b[0m\u001b[0m\n\u001b[1;32m----> 3\u001b[1;33m     \u001b[1;32mraise\u001b[0m \u001b[0mException\u001b[0m\u001b[1;33m(\u001b[0m\u001b[1;34m\"sorry,no number below zero\"\u001b[0m\u001b[1;33m)\u001b[0m\u001b[1;33m\u001b[0m\u001b[1;33m\u001b[0m\u001b[0m\n\u001b[0m",
      "\u001b[1;31mException\u001b[0m: sorry,no number below zero"
     ]
    }
   ],
   "source": [
    "\n",
    "x = -1\n",
    "if x < 0:\n",
    "    raise Exception(\"sorry,no number below zero\")"
   ]
  },
  {
   "cell_type": "code",
   "execution_count": 48,
   "metadata": {},
   "outputs": [
    {
     "ename": "TypeError",
     "evalue": "only integer are allowed",
     "output_type": "error",
     "traceback": [
      "\u001b[1;31m---------------------------------------------------------------------------\u001b[0m",
      "\u001b[1;31mTypeError\u001b[0m                                 Traceback (most recent call last)",
      "\u001b[1;32m<ipython-input-48-32ffefc994b0>\u001b[0m in \u001b[0;36m<module>\u001b[1;34m\u001b[0m\n\u001b[0;32m      2\u001b[0m \u001b[0mx\u001b[0m \u001b[1;33m=\u001b[0m \u001b[1;34m\"hello\"\u001b[0m\u001b[1;33m\u001b[0m\u001b[1;33m\u001b[0m\u001b[0m\n\u001b[0;32m      3\u001b[0m \u001b[1;32mif\u001b[0m \u001b[0mtype\u001b[0m\u001b[1;33m(\u001b[0m\u001b[0mx\u001b[0m\u001b[1;33m)\u001b[0m \u001b[1;32mis\u001b[0m \u001b[1;32mnot\u001b[0m \u001b[0mint\u001b[0m\u001b[1;33m:\u001b[0m\u001b[1;33m\u001b[0m\u001b[1;33m\u001b[0m\u001b[0m\n\u001b[1;32m----> 4\u001b[1;33m     \u001b[1;32mraise\u001b[0m \u001b[0mTypeError\u001b[0m\u001b[1;33m(\u001b[0m\u001b[1;34m\"only integer are allowed\"\u001b[0m\u001b[1;33m)\u001b[0m\u001b[1;33m\u001b[0m\u001b[1;33m\u001b[0m\u001b[0m\n\u001b[0m",
      "\u001b[1;31mTypeError\u001b[0m: only integer are allowed"
     ]
    }
   ],
   "source": [
    "# raise a type error if x is not an integer.\n",
    "x = \"hello\"\n",
    "if type(x) is not int:\n",
    "    raise TypeError(\"only integer are allowed\")"
   ]
  },
  {
   "cell_type": "code",
   "execution_count": null,
   "metadata": {},
   "outputs": [],
   "source": []
  },
  {
   "cell_type": "code",
   "execution_count": null,
   "metadata": {},
   "outputs": [],
   "source": []
  },
  {
   "cell_type": "code",
   "execution_count": null,
   "metadata": {},
   "outputs": [],
   "source": []
  },
  {
   "cell_type": "markdown",
   "metadata": {},
   "source": [
    "# Oops Concept"
   ]
  },
  {
   "cell_type": "markdown",
   "metadata": {},
   "source": [
    "Inheritance\n",
    "\n",
    "Encapsulation\n",
    "\n",
    "Polymorphism\n",
    "\n",
    "Data Abstraction"
   ]
  },
  {
   "cell_type": "code",
   "execution_count": 68,
   "metadata": {},
   "outputs": [
    {
     "name": "stdout",
     "output_type": "stream",
     "text": [
      "Apple 2015\n",
      "mi 2018\n"
     ]
    }
   ],
   "source": [
    "class mobile():\n",
    "    def __init__(self,model,year):\n",
    "        self.model = model\n",
    "        self.year = year\n",
    "        \n",
    "    def ajit(self):\n",
    "        print(self.model,self.year)\n",
    "        \n",
    "a1 = mobile(\"Apple\", 2015)\n",
    "a2 = mobile(\"mi\", 2018)\n",
    "a1.ajit()\n",
    "a2.ajit()"
   ]
  },
  {
   "cell_type": "code",
   "execution_count": 6,
   "metadata": {},
   "outputs": [
    {
     "name": "stdout",
     "output_type": "stream",
     "text": [
      "{'modelname': 'BMW', 'year': 2016}\n"
     ]
    }
   ],
   "source": [
    "class car():\n",
    "    def __init__(self,modelname,year):\n",
    "        self.modelname = modelname\n",
    "        self.year = year\n",
    "        \n",
    "    \n",
    "c1 = car(\"BMW\",2016)\n",
    "print(c1.__dict__)"
   ]
  },
  {
   "cell_type": "code",
   "execution_count": 19,
   "metadata": {},
   "outputs": [],
   "source": [
    "class Employee():\n",
    "    def __init__(self,name,age,salary,gender):\n",
    "        self.name = name\n",
    "        self.age = age\n",
    "        self.salary = salary\n",
    "        self.gender = gender\n",
    "    \n",
    "    def emp_details(self):\n",
    "        print(\"name of the employee is \", self.name)\n",
    "        print(\"age of the employee is \", self.age)\n",
    "        print(\"salary of the employee is \", self.salary)\n",
    "        print(\"gender of the employee is \", self.gender)\n",
    "        \n",
    "a1 = Employee(\"Ajit\",'23', 100000, 'Male')\n",
    "    "
   ]
  },
  {
   "cell_type": "code",
   "execution_count": 21,
   "metadata": {},
   "outputs": [
    {
     "name": "stdout",
     "output_type": "stream",
     "text": [
      "name of the employee is  Ajit\n",
      "age of the employee is  23\n",
      "salary of the employee is  100000\n",
      "gender of the employee is  Male\n"
     ]
    }
   ],
   "source": [
    "a1.emp_details()"
   ]
  },
  {
   "cell_type": "markdown",
   "metadata": {},
   "source": [
    "# Inheritance"
   ]
  },
  {
   "cell_type": "markdown",
   "metadata": {},
   "source": [
    "With a Inheritance one class can derive the propperties of another class\n",
    "\n",
    "eg.--> man inheriting features from his fathers\n",
    "\n",
    "Types of Inheritance\n",
    "\n",
    "1. single 2.multiple 3.Hybrid"
   ]
  },
  {
   "cell_type": "code",
   "execution_count": 22,
   "metadata": {},
   "outputs": [],
   "source": [
    "class Vehicle():\n",
    "    def __init__(self,milage,cost):\n",
    "        self.milage = milage\n",
    "        self.cost = cost\n",
    "    def show_vehicle_details(self):\n",
    "        print('milage of vehicle is', self.milage)\n",
    "        print('cost of vehicle is', self.cost)\n",
    "        print('i am a vehicle')"
   ]
  },
  {
   "cell_type": "code",
   "execution_count": 23,
   "metadata": {},
   "outputs": [],
   "source": [
    "e1 = Vehicle(50, 4500000)"
   ]
  },
  {
   "cell_type": "code",
   "execution_count": 24,
   "metadata": {},
   "outputs": [
    {
     "name": "stdout",
     "output_type": "stream",
     "text": [
      "milage of vehicle is 50\n",
      "cost of vehicle is 4500000\n",
      "i am a vehicle\n"
     ]
    }
   ],
   "source": [
    "e1.show_vehicle_details()"
   ]
  },
  {
   "cell_type": "code",
   "execution_count": 25,
   "metadata": {},
   "outputs": [],
   "source": [
    "class car(Vehicle):\n",
    "    def show_car_details(self):\n",
    "        print('i am a car')"
   ]
  },
  {
   "cell_type": "code",
   "execution_count": 26,
   "metadata": {},
   "outputs": [],
   "source": [
    "c1 = car(50, 4500000)"
   ]
  },
  {
   "cell_type": "code",
   "execution_count": 27,
   "metadata": {},
   "outputs": [
    {
     "name": "stdout",
     "output_type": "stream",
     "text": [
      "milage of vehicle is 50\n",
      "cost of vehicle is 4500000\n",
      "i am a vehicle\n"
     ]
    }
   ],
   "source": [
    "c1.show_vehicle_details()"
   ]
  },
  {
   "cell_type": "code",
   "execution_count": 28,
   "metadata": {},
   "outputs": [
    {
     "name": "stdout",
     "output_type": "stream",
     "text": [
      "i am a car\n"
     ]
    }
   ],
   "source": [
    "c1.show_car_details()"
   ]
  },
  {
   "cell_type": "markdown",
   "metadata": {},
   "source": [
    "# Over-riding init method"
   ]
  },
  {
   "cell_type": "code",
   "execution_count": 29,
   "metadata": {},
   "outputs": [],
   "source": [
    "class car(Vehicle):\n",
    "    def __init__(self,milage,cost,tyres,hp):\n",
    "        super().__init__(milage,cost)\n",
    "        self.tyres = tyres\n",
    "        self.hp = hp\n",
    "        \n",
    "    def show_car_details(self):\n",
    "        print('i am a car')\n",
    "        print('number of tyres are', self.tyres)\n",
    "        print('value of horse power is', self.hp)"
   ]
  },
  {
   "cell_type": "code",
   "execution_count": 30,
   "metadata": {},
   "outputs": [],
   "source": [
    "w1 = car(50,4500000,4,300)"
   ]
  },
  {
   "cell_type": "code",
   "execution_count": 32,
   "metadata": {},
   "outputs": [
    {
     "name": "stdout",
     "output_type": "stream",
     "text": [
      "milage of vehicle is 50\n",
      "cost of vehicle is 4500000\n",
      "i am a vehicle\n"
     ]
    }
   ],
   "source": [
    "w1.show_vehicle_details()"
   ]
  },
  {
   "cell_type": "code",
   "execution_count": 33,
   "metadata": {},
   "outputs": [
    {
     "name": "stdout",
     "output_type": "stream",
     "text": [
      "i am a car\n",
      "number of tyres are 4\n",
      "value of horse power is 300\n"
     ]
    }
   ],
   "source": [
    "w1.show_car_details()"
   ]
  },
  {
   "cell_type": "markdown",
   "metadata": {},
   "source": [
    "# Encapsulation"
   ]
  },
  {
   "cell_type": "markdown",
   "metadata": {},
   "source": [
    "Encapsulation is the process of wrapping up variables and methods into a single entity\n",
    "\n",
    "variable & method should be in double underscore(__a)\n",
    "\n",
    "Use -- Data hiding, flexibility, reusability"
   ]
  },
  {
   "cell_type": "code",
   "execution_count": 13,
   "metadata": {},
   "outputs": [
    {
     "name": "stdout",
     "output_type": "stream",
     "text": [
      "101\n"
     ]
    }
   ],
   "source": [
    "class myclass():\n",
    "    __a = 101\n",
    "    \n",
    "    def getemp(self):\n",
    "        print(self.__a)\n",
    "obj = myclass()\n",
    "obj.getemp()"
   ]
  },
  {
   "cell_type": "code",
   "execution_count": 108,
   "metadata": {},
   "outputs": [
    {
     "name": "stdout",
     "output_type": "stream",
     "text": [
      "this is a display2 method\n",
      "this is a display1 method\n"
     ]
    }
   ],
   "source": [
    "class myclass():\n",
    "    def __disp1(self):  # private method only work within in class\n",
    "        print('this is a display1 method')\n",
    "        \n",
    "        \n",
    "    def disp2(self):\n",
    "        print('this is a display2 method')\n",
    "        self.__disp1()       # parent method\n",
    "obj1 = myclass()\n",
    "obj1.disp2()"
   ]
  },
  {
   "cell_type": "code",
   "execution_count": 59,
   "metadata": {},
   "outputs": [
    {
     "name": "stdout",
     "output_type": "stream",
     "text": [
      "1010\n"
     ]
    }
   ],
   "source": [
    "class myclass():\n",
    "    __a = 101\n",
    "    \n",
    "    def getemp(self,eid):\n",
    "        self.__a = eid\n",
    "        \n",
    "    def disemp(self):\n",
    "        print(self.__a)\n",
    "        \n",
    "obj = myclass()\n",
    "obj.getemp(1010)\n",
    "obj.disemp()\n",
    "\n"
   ]
  },
  {
   "cell_type": "markdown",
   "metadata": {},
   "source": [
    "# Polymorphism"
   ]
  },
  {
   "cell_type": "markdown",
   "metadata": {},
   "source": [
    "Polymorphism -> define methods in the child class that have the same name as the method in the parent class.\n",
    "\n",
    "Over-riding methods\n",
    "\n",
    "Having two methods with same name but doing diffrent tasks"
   ]
  },
  {
   "cell_type": "code",
   "execution_count": 1,
   "metadata": {},
   "outputs": [
    {
     "data": {
      "text/plain": [
       "'jos'"
      ]
     },
     "execution_count": 1,
     "metadata": {},
     "output_type": "execute_result"
    }
   ],
   "source": [
    "# OVER - RIDING VARIABLE\n",
    "class parent():\n",
    "    name = 'ajit'\n",
    "    \n",
    "class child(parent):\n",
    "   name = 'jos'\n",
    "    \n",
    "obj = child()\n",
    "obj.name"
   ]
  },
  {
   "cell_type": "code",
   "execution_count": 38,
   "metadata": {},
   "outputs": [
    {
     "name": "stdout",
     "output_type": "stream",
     "text": [
      "10.5\n",
      "0\n"
     ]
    }
   ],
   "source": [
    "# OVER - RIDING METHOD\n",
    "class bank():\n",
    "    def interest(self):\n",
    "        return 0\n",
    "\n",
    "class sbi(bank):\n",
    "    def interest(self):\n",
    "        return 10.5\n",
    "    \n",
    "obj = sbi()\n",
    "print(obj.interest())\n",
    "        \n",
    "obj1 = bank()\n",
    "print(obj1.interest())"
   ]
  },
  {
   "cell_type": "markdown",
   "metadata": {},
   "source": [
    "Over-loadiing method\n",
    "\n",
    "in python we can define a method in such way that there are multiple ways to call it."
   ]
  },
  {
   "cell_type": "code",
   "execution_count": 48,
   "metadata": {},
   "outputs": [
    {
     "name": "stdout",
     "output_type": "stream",
     "text": [
      "helloajit\n",
      "hello\n"
     ]
    }
   ],
   "source": [
    "class human():\n",
    "    def sayhello(self, name=None):\n",
    "        if name is not None:\n",
    "            print('hello' +   name)\n",
    "        else:\n",
    "            print('hello')\n",
    "obj = human()\n",
    "obj.sayhello('ajit')\n",
    "obj.sayhello()"
   ]
  },
  {
   "cell_type": "code",
   "execution_count": 55,
   "metadata": {},
   "outputs": [
    {
     "name": "stdout",
     "output_type": "stream",
     "text": [
      "can not fly\n"
     ]
    }
   ],
   "source": [
    "class bird():\n",
    "    def fly(self,name=None):\n",
    "        if name=='parot':\n",
    "            print('can fly')\n",
    "        if name=='penguine':\n",
    "            print('can not fly')\n",
    "        if name is None:\n",
    "            print('no input')\n",
    " \n",
    "            \n",
    "obj = bird()\n",
    "obj.fly('penguine')"
   ]
  },
  {
   "cell_type": "markdown",
   "metadata": {},
   "source": [
    "# Data Abstraction"
   ]
  },
  {
   "cell_type": "markdown",
   "metadata": {},
   "source": [
    "Data Abstraction is used to hide the internal functionality of the function from the users\n",
    "\n",
    "useed to reduced complexity and increase efficiency."
   ]
  },
  {
   "cell_type": "code",
   "execution_count": 63,
   "metadata": {},
   "outputs": [
    {
     "name": "stdout",
     "output_type": "stream",
     "text": [
      "eat non-veg\n",
      "eat veg\n"
     ]
    }
   ],
   "source": [
    "# ABC is a predefind abstract class\n",
    "from abc import ABC,abstractmethod\n",
    "\n",
    "class animal(ABC):\n",
    "    \n",
    "    @abstractmethod\n",
    "    def eat(self):\n",
    "        pass\n",
    "    \n",
    "class tiger(animal):\n",
    "    def eat(self):\n",
    "        print('eat non-veg')\n",
    "        \n",
    "class cow(animal):\n",
    "    def eat(self):\n",
    "         print('eat veg')\n",
    "            \n",
    "t = tiger()\n",
    "t.eat()\n",
    "        \n",
    "c = cow()\n",
    "c.eat()\n"
   ]
  },
  {
   "cell_type": "code",
   "execution_count": 67,
   "metadata": {},
   "outputs": [
    {
     "name": "stdout",
     "output_type": "stream",
     "text": [
      "200\n",
      "90\n"
     ]
    }
   ],
   "source": [
    "from abc import ABC,abstractmethod\n",
    "\n",
    "class cal(ABC):\n",
    "    def __init__(self,value):\n",
    "        self.value = value\n",
    "        \n",
    "        @abstractmethod\n",
    "        def add(self):\n",
    "            pass\n",
    "        \n",
    "        @abstractmethod\n",
    "        def sub(self):\n",
    "            pass\n",
    "\n",
    "class c(cal):\n",
    "    def add(self):\n",
    "        print(self.value+100)\n",
    "    def sub(self):\n",
    "        print(self.value-10)\n",
    "        \n",
    "obj = c(100)\n",
    "obj.add()\n",
    "\n",
    "obj.sub()"
   ]
  },
  {
   "cell_type": "code",
   "execution_count": null,
   "metadata": {},
   "outputs": [],
   "source": []
  },
  {
   "cell_type": "markdown",
   "metadata": {},
   "source": [
    "# Regular Expression"
   ]
  },
  {
   "cell_type": "markdown",
   "metadata": {},
   "source": [
    "A Regular Expressions (RegEx) is a special sequence of characters that uses a search pattern to find a string or set of strings.\n",
    "\n",
    "It can detect the presence or absence of a text by matching with a particular pattern, and also can split a pattern into one or more sub-patterns. Python provides a re module that supports the use of regex in Python."
   ]
  },
  {
   "cell_type": "code",
   "execution_count": 2,
   "metadata": {},
   "outputs": [],
   "source": [
    "import re"
   ]
  },
  {
   "cell_type": "code",
   "execution_count": null,
   "metadata": {},
   "outputs": [],
   "source": [
    "# String\n",
    "re.search(pattern, string)"
   ]
  },
  {
   "cell_type": "code",
   "execution_count": 6,
   "metadata": {},
   "outputs": [
    {
     "data": {
      "text/plain": [
       "'is'"
      ]
     },
     "execution_count": 6,
     "metadata": {},
     "output_type": "execute_result"
    }
   ],
   "source": [
    "sent = \"india is my country\"\n",
    "match = re.search('is', sent)\n",
    "match.group()"
   ]
  },
  {
   "cell_type": "markdown",
   "metadata": {},
   "source": [
    "QUESTION - How will you find, in a string, the first word that rhymes with 'cake'?"
   ]
  },
  {
   "cell_type": "code",
   "execution_count": 5,
   "metadata": {},
   "outputs": [
    {
     "data": {
      "text/plain": [
       "'make'"
      ]
     },
     "execution_count": 5,
     "metadata": {},
     "output_type": "execute_result"
    }
   ],
   "source": [
    "rhyme=re.search('.ake','I would make a cake, but I hate to bake')\n",
    "rhyme.group()"
   ]
  },
  {
   "cell_type": "code",
   "execution_count": null,
   "metadata": {},
   "outputs": [],
   "source": []
  },
  {
   "cell_type": "markdown",
   "metadata": {},
   "source": [
    "Write a sorting algorithm for a numerical dataset in Python."
   ]
  },
  {
   "cell_type": "code",
   "execution_count": 38,
   "metadata": {},
   "outputs": [
    {
     "name": "stdout",
     "output_type": "stream",
     "text": [
      "[0, 1, 4, 5, 5, 6, 7, 8, 8, 9]\n"
     ]
    }
   ],
   "source": [
    "list = [5,8,8,4,6,7,9,5,0,1]\n",
    "list = [int(i) for i in list]\n",
    "list.sort()\n",
    "print(list)"
   ]
  },
  {
   "cell_type": "markdown",
   "metadata": {},
   "source": [
    " Write a Python program to calculate the sum of a list of numbers"
   ]
  },
  {
   "cell_type": "code",
   "execution_count": 103,
   "metadata": {},
   "outputs": [
    {
     "name": "stdout",
     "output_type": "stream",
     "text": [
      "30\n"
     ]
    }
   ],
   "source": [
    "def sum(num):\n",
    "    total = 0\n",
    "    for x in num:\n",
    "        total += x\n",
    "    return total\n",
    "n = sum((5,8,9,5,3))\n",
    "print(n)"
   ]
  },
  {
   "cell_type": "code",
   "execution_count": 67,
   "metadata": {},
   "outputs": [
    {
     "name": "stdout",
     "output_type": "stream",
     "text": [
      "30\n"
     ]
    }
   ],
   "source": [
    "ac = [5,8,9,5,3]\n",
    "total = sum(ac)\n",
    "print(total)"
   ]
  },
  {
   "cell_type": "code",
   "execution_count": 96,
   "metadata": {},
   "outputs": [
    {
     "name": "stdout",
     "output_type": "stream",
     "text": [
      "6\n"
     ]
    }
   ],
   "source": [
    "# Calculate mean,median,and mode\n",
    "import statistics\n",
    "ac = [5,8,9,5,3]\n",
    "g = (statistics.mean(ac))\n",
    "print(g)"
   ]
  },
  {
   "cell_type": "code",
   "execution_count": 2,
   "metadata": {},
   "outputs": [
    {
     "name": "stdout",
     "output_type": "stream",
     "text": [
      "USB\n"
     ]
    }
   ],
   "source": [
    "def phrase(sentence):\n",
    "    word = sentence.split()\n",
    "    result=''\n",
    "    for w in word:\n",
    "        result+=w[0]\n",
    "    return result.upper()\n",
    "print(phrase(\"Universal Serial Bus\"))"
   ]
  },
  {
   "cell_type": "code",
   "execution_count": 7,
   "metadata": {},
   "outputs": [
    {
     "data": {
      "text/plain": [
       "x    15\n",
       "b    25\n",
       "dtype: int64"
      ]
     },
     "execution_count": 7,
     "metadata": {},
     "output_type": "execute_result"
    }
   ],
   "source": [
    "import pandas as pd\n",
    "def ff(x):\n",
    "    return x.sum()\n",
    "d = { 'x': [5,4,6],\n",
    "      'b': [8,9,8]}\n",
    "    \n",
    "df = pd.DataFrame(d)\n",
    "df = df.apply(ff)\n",
    "df    "
   ]
  },
  {
   "cell_type": "code",
   "execution_count": null,
   "metadata": {},
   "outputs": [],
   "source": []
  },
  {
   "cell_type": "code",
   "execution_count": 21,
   "metadata": {},
   "outputs": [
    {
     "data": {
      "text/plain": [
       "[1, 3, 6, 10]"
      ]
     },
     "execution_count": 21,
     "metadata": {},
     "output_type": "execute_result"
    }
   ],
   "source": [
    "class Solution(object):\n",
    "    def runningSum(self, nums):\n",
    "        \"\"\"\n",
    "        :type nums: List[int]\n",
    "        :rtype: List[int]\n",
    "        \"\"\"\n",
    "        result = []\n",
    "        total = 0\n",
    "        for i in range(len(nums)):\n",
    "            total+=nums[i]\n",
    "            result.append(total)\n",
    "        return result\n",
    "\n",
    "b = Solution()\n",
    "b.runningSum([1,2,3,4])"
   ]
  },
  {
   "cell_type": "code",
   "execution_count": null,
   "metadata": {},
   "outputs": [],
   "source": []
  },
  {
   "cell_type": "code",
   "execution_count": null,
   "metadata": {},
   "outputs": [],
   "source": []
  },
  {
   "cell_type": "code",
   "execution_count": null,
   "metadata": {},
   "outputs": [],
   "source": []
  },
  {
   "cell_type": "code",
   "execution_count": null,
   "metadata": {},
   "outputs": [],
   "source": []
  },
  {
   "cell_type": "code",
   "execution_count": null,
   "metadata": {},
   "outputs": [],
   "source": []
  }
 ],
 "metadata": {
  "kernelspec": {
   "display_name": "Python 3 (ipykernel)",
   "language": "python",
   "name": "python3"
  },
  "language_info": {
   "codemirror_mode": {
    "name": "ipython",
    "version": 3
   },
   "file_extension": ".py",
   "mimetype": "text/x-python",
   "name": "python",
   "nbconvert_exporter": "python",
   "pygments_lexer": "ipython3",
   "version": "3.8.13"
  }
 },
 "nbformat": 4,
 "nbformat_minor": 4
}
